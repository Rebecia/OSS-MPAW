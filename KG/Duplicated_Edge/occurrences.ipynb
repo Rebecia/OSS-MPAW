{
 "cells": [
  {
   "cell_type": "markdown",
   "metadata": {},
   "source": [
    "# # occurrences of a malicious package in 3 OSS\n",
    "| OSS       | num=1 | num=2 | num=3 | num=4 |\n",
    "|-----------|-------|-------|-------|-------|\n",
    "| NPM       | 6427  | 1102  | 9     | 0     |\n",
    "| PyPI      | 8256  | 3788  | 3396  | 56    |\n",
    "| RubyGems  | 1199  | 74    | 0     | 0     |\n",
    "| **Total** | 15882 | 4964  | 3405  | 56    |"
   ]
  }
 ],
 "metadata": {
  "language_info": {
   "name": "python"
  }
 },
 "nbformat": 4,
 "nbformat_minor": 2
}
