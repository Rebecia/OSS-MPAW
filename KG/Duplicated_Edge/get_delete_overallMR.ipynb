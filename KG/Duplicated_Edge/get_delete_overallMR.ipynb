{
 "cells": [
  {
   "cell_type": "code",
   "execution_count": 1,
   "metadata": {},
   "outputs": [
    {
     "name": "stdout",
     "output_type": "stream",
     "text": [
      "Results for npm_graph.json:\n",
      "Phylum: 48\n",
      "Socket: 4\n",
      "Blogs: 39\n",
      "Snyk.io: 1\n",
      "Tianwen: 60\n",
      "GitHub Advisory: 6\n",
      "\n",
      "\n",
      "Results for pypi_graph.json:\n",
      "Phylum: 684\n",
      "Tianwen: 17\n",
      "Blogs: 1\n",
      "\n",
      "\n",
      "Results for ruby_graph.json:\n",
      "\n",
      "\n"
     ]
    }
   ],
   "source": [
    "# get_overall_MR\n",
    "\n",
    "import json\n",
    "\n",
    "def process_json(json_data):\n",
    "    sources_count = {}\n",
    "    \n",
    "    for node in json_data.get(\"nodes\", []):\n",
    "        status = node.get(\"Status\", \"\")\n",
    "        source = node.get(\"Source\", \"\")\n",
    "        edge_names = node.get(\"edge_name\", [])\n",
    "\n",
    "        # if the status of the node is untracked and there is a edge name\n",
    "        if status == \"untracked\" and edge_names:\n",
    "            for edge_name in edge_names:\n",
    "                # obtain the status of the edge name point\n",
    "                edge_node_status = get_edge_node_status(json_data, edge_name)\n",
    "                # if at least one of the points has a tracked status the source count is incremented\n",
    "                if edge_node_status == \"tracked\":\n",
    "                    sources_count[source] = sources_count.get(source, 0) + 1\n",
    "                    break\n",
    "\n",
    "    return sources_count\n",
    "\n",
    "def get_edge_node_status(json_data, edge_name):\n",
    "    for node in json_data.get(\"nodes\", []):\n",
    "        if node.get(\"id\") == edge_name:\n",
    "            return node.get(\"Status\", \"\")\n",
    "    return \"\"\n",
    "\n",
    "# read multiple json files\n",
    "file_paths = [\n",
    "        \"npm_graph.json\",\n",
    "        \"pypi_graph.json\",\n",
    "        \"ruby_graph.json\"\n",
    "]\n",
    "\n",
    "for file_path in file_paths:\n",
    "    with open(file_path, \"r\", encoding=\"utf-8\") as file:\n",
    "        json_data = json.load(file)\n",
    "\n",
    "    result = process_json(json_data)\n",
    "    print(f\"Results for {file_path}:\")\n",
    "    for source, count in result.items():\n",
    "        print(f\"{source}: {count}\")\n",
    "    print(\"\\n\")\n"
   ]
  }
 ],
 "metadata": {
  "kernelspec": {
   "display_name": "machine",
   "language": "python",
   "name": "python3"
  },
  "language_info": {
   "codemirror_mode": {
    "name": "ipython",
    "version": 3
   },
   "file_extension": ".py",
   "mimetype": "text/x-python",
   "name": "python",
   "nbconvert_exporter": "python",
   "pygments_lexer": "ipython3",
   "version": "3.8.18"
  }
 },
 "nbformat": 4,
 "nbformat_minor": 2
}
